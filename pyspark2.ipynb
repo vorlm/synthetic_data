{
  "nbformat": 4,
  "nbformat_minor": 0,
  "metadata": {
    "colab": {
      "provenance": []
    },
    "kernelspec": {
      "name": "python3",
      "display_name": "Python 3"
    },
    "language_info": {
      "name": "python"
    }
  },
  "cells": [
    {
      "cell_type": "code",
      "source": [
        "!pip install pyspark"
      ],
      "metadata": {
        "colab": {
          "base_uri": "https://localhost:8080/"
        },
        "id": "ZQsI5ddfmxk_",
        "outputId": "45f561e7-e04f-4f9e-ec01-0513a1743ffc"
      },
      "execution_count": 1,
      "outputs": [
        {
          "output_type": "stream",
          "name": "stdout",
          "text": [
            "Requirement already satisfied: pyspark in /usr/local/lib/python3.10/dist-packages (3.5.3)\n",
            "Requirement already satisfied: py4j==0.10.9.7 in /usr/local/lib/python3.10/dist-packages (from pyspark) (0.10.9.7)\n"
          ]
        }
      ]
    },
    {
      "cell_type": "code",
      "source": [
        "!pip install install-jdk"
      ],
      "metadata": {
        "colab": {
          "base_uri": "https://localhost:8080/"
        },
        "id": "-Q1ttXsYnDrY",
        "outputId": "06869cd4-7c51-4a5a-f3e1-c79634d5b1e7"
      },
      "execution_count": 2,
      "outputs": [
        {
          "output_type": "stream",
          "name": "stdout",
          "text": [
            "Collecting install-jdk\n",
            "  Downloading install_jdk-1.1.0-py3-none-any.whl.metadata (12 kB)\n",
            "Downloading install_jdk-1.1.0-py3-none-any.whl (15 kB)\n",
            "Installing collected packages: install-jdk\n",
            "Successfully installed install-jdk-1.1.0\n"
          ]
        }
      ]
    },
    {
      "cell_type": "code",
      "source": [
        "!pip install findspark"
      ],
      "metadata": {
        "colab": {
          "base_uri": "https://localhost:8080/"
        },
        "id": "hqfCPaqknGKZ",
        "outputId": "956a5108-cc40-4781-9ccc-d483c0cf667d"
      },
      "execution_count": 3,
      "outputs": [
        {
          "output_type": "stream",
          "name": "stdout",
          "text": [
            "Collecting findspark\n",
            "  Downloading findspark-2.0.1-py2.py3-none-any.whl.metadata (352 bytes)\n",
            "Downloading findspark-2.0.1-py2.py3-none-any.whl (4.4 kB)\n",
            "Installing collected packages: findspark\n",
            "Successfully installed findspark-2.0.1\n"
          ]
        }
      ]
    },
    {
      "cell_type": "code",
      "source": [
        "from pyspark.sql import SparkSession\n",
        "from pyspark.sql.functions import col, expr\n",
        "from pyspark.sql.types import IntegerType, StringType, FloatType, StructType, StructField\n",
        "import random\n",
        "import datetime\n",
        "\n",
        "spark = SparkSession.builder \\\n",
        "    .appName(\"Synthetic Data Generator\") \\\n",
        "    .getOrCreate()\n",
        "\n",
        "num_records = 5000\n",
        "products = [\"Laptop\", \"Tablet\", \"Smartphone\", \"Headphones\", \"Smartwatch\"]\n",
        "date_start = datetime.date.today() - datetime.timedelta(days=365)\n",
        "\n",
        "schema = StructType([\n",
        "    StructField(\"Дата\", StringType(), True),\n",
        "    StructField(\"UserID\", IntegerType(), True),\n",
        "    StructField(\"Продукт\", StringType(), True),\n",
        "    StructField(\"Количество\", IntegerType(), True),\n",
        "    StructField(\"Цена\", FloatType(), True)\n",
        "])\n",
        "\n",
        "data = []\n",
        "for _ in range(num_records):\n",
        "    date = date_start + datetime.timedelta(days=random.randint(0, 364))\n",
        "    user_id = random.randint(1, num_records + 1)\n",
        "    product = random.choice(products)\n",
        "    quantity = random.randint(1, 11)\n",
        "    price = round(random.uniform(10000, 300000), 2)\n",
        "    data.append((date.isoformat(), user_id, product, quantity, price))\n",
        "\n",
        "df = spark.createDataFrame(data, schema)\n",
        "\n",
        "df.show()\n",
        "\n",
        "df.write.csv(\"synthetic_data.csv\", header=True, mode='overwrite')\n",
        "\n",
        "spark.stop()"
      ],
      "metadata": {
        "colab": {
          "base_uri": "https://localhost:8080/"
        },
        "id": "H9TNv5k4nL_D",
        "outputId": "7cf70864-167c-4a05-e9d7-cb6c3e5918c1"
      },
      "execution_count": 12,
      "outputs": [
        {
          "output_type": "stream",
          "name": "stdout",
          "text": [
            "+----------+------+----------+----------+---------+\n",
            "|      Дата|UserID|   Продукт|Количество|     Цена|\n",
            "+----------+------+----------+----------+---------+\n",
            "|2024-06-02|  4331|    Tablet|         5| 137616.0|\n",
            "|2024-04-21|  4601|Smartphone|        11|281648.25|\n",
            "|2024-08-08|  1558|Smartwatch|         1|108357.43|\n",
            "|2024-06-25|   494|Headphones|         2| 49200.35|\n",
            "|2024-08-27|  1551|    Laptop|         3|200305.97|\n",
            "|2024-06-13|  1976|Smartphone|         1| 44878.88|\n",
            "|2024-07-08|  2042|Smartphone|         2|281457.16|\n",
            "|2024-03-09|  1892|    Laptop|         3|297283.88|\n",
            "|2024-07-04|  3331|Smartphone|         2|193796.95|\n",
            "|2024-05-15|  4880|Smartwatch|        10|280666.03|\n",
            "|2024-09-10|  4192|Headphones|         4| 10165.82|\n",
            "|2023-11-15|   512|Headphones|         3| 230165.4|\n",
            "|2024-03-24|  1190|    Tablet|         5|127525.04|\n",
            "|2024-09-25|   262|Headphones|        11| 54640.38|\n",
            "|2024-06-21|  2142|    Laptop|         6|116605.12|\n",
            "|2024-06-18|  3483|Smartwatch|         4| 44489.03|\n",
            "|2023-12-10|  2468|Headphones|         7| 84905.68|\n",
            "|2024-07-18|  4157|Smartwatch|         9|235286.61|\n",
            "|2024-06-10|   470|Smartphone|         4| 10241.08|\n",
            "|2023-12-14|  3272|Smartwatch|         1|237725.86|\n",
            "+----------+------+----------+----------+---------+\n",
            "only showing top 20 rows\n",
            "\n"
          ]
        }
      ]
    }
  ]
}